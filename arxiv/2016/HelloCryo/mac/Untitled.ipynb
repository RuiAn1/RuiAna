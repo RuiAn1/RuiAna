{
 "cells": [
  {
   "cell_type": "code",
   "execution_count": 16,
   "metadata": {
    "collapsed": false
   },
   "outputs": [],
   "source": [
    "import ROOT\n",
    "from ROOT import ertool\n",
    "from ROOT import geoalgo\n",
    "from basictool.geoviewer import GeoViewer\n",
    "import matplotlib.pyplot as plt"
   ]
  },
  {
   "cell_type": "code",
   "execution_count": 21,
   "metadata": {
    "collapsed": false
   },
   "outputs": [],
   "source": [
    "geo = geoalgo.GeoAlgo()\n",
    "viewer = GeoViewer()\n",
    "cryo_cylinder = geoalgo.Cylinder(256.35/2,0,0,256.35/2,0,1086.49,191.61)\n",
    "tpc_av=geoalgo.AABox(0,-233/2.,0,256.35,233/2.,1036.8)"
   ]
  },
  {
   "cell_type": "code",
   "execution_count": 22,
   "metadata": {
    "collapsed": false
   },
   "outputs": [
    {
     "ename": "TypeError",
     "evalue": "none of the 7 overloaded methods succeeded. Full details:\n  void geoalgo::GeoObjCollection::Add(const geoalgo::Vector& pt, string label = \"\", string c = \"\") =>\n    could not convert argument 1\n  void geoalgo::GeoObjCollection::Add(const geoalgo::AABox& box, string label = \"\", string c = \"\") =>\n    could not convert argument 1\n  void geoalgo::GeoObjCollection::Add(const geoalgo::LineSegment& seg, string label = \"\", string c = \"\") =>\n    could not convert argument 1\n  void geoalgo::GeoObjCollection::Add(const geoalgo::HalfLine& seg, string label = \"\", string c = \"\") =>\n    could not convert argument 1\n  void geoalgo::GeoObjCollection::Add(const geoalgo::Trajectory& trj, string label = \"\", string c = \"\") =>\n    could not convert argument 1\n  void geoalgo::GeoObjCollection::Add(const geoalgo::Cone& cone, string label = \"\", string c = \"\") =>\n    could not convert argument 1\n  void geoalgo::GeoObjCollection::Add(const geoalgo::Sphere& sphere, string label = \"\", string c = \"\") =>\n    could not convert argument 1",
     "output_type": "error",
     "traceback": [
      "\u001b[0;31m---------------------------------------------------------------------------\u001b[0m",
      "\u001b[0;31mTypeError\u001b[0m                                 Traceback (most recent call last)",
      "\u001b[0;32m<ipython-input-22-c516f4393952>\u001b[0m in \u001b[0;36m<module>\u001b[0;34m()\u001b[0m\n\u001b[1;32m      1\u001b[0m \u001b[0mviewer\u001b[0m\u001b[0;34m.\u001b[0m\u001b[0m_use_box\u001b[0m \u001b[0;34m=\u001b[0m \u001b[0mFalse\u001b[0m\u001b[0;34m\u001b[0m\u001b[0m\n\u001b[1;32m      2\u001b[0m \u001b[0;34m\u001b[0m\u001b[0m\n\u001b[0;32m----> 3\u001b[0;31m \u001b[0mviewer\u001b[0m\u001b[0;34m.\u001b[0m\u001b[0madd\u001b[0m\u001b[0;34m(\u001b[0m\u001b[0mcryo_cylinder\u001b[0m\u001b[0;34m,\u001b[0m\u001b[0;34m'CRYO'\u001b[0m\u001b[0;34m,\u001b[0m\u001b[0;34m'b'\u001b[0m\u001b[0;34m)\u001b[0m\u001b[0;34m\u001b[0m\u001b[0m\n\u001b[0m\u001b[1;32m      4\u001b[0m \u001b[0mviewer\u001b[0m\u001b[0;34m.\u001b[0m\u001b[0madd\u001b[0m\u001b[0;34m(\u001b[0m\u001b[0mtpc_av\u001b[0m\u001b[0;34m,\u001b[0m\u001b[0;34m'TPC'\u001b[0m\u001b[0;34m,\u001b[0m\u001b[0;34m'r'\u001b[0m\u001b[0;34m)\u001b[0m\u001b[0;34m\u001b[0m\u001b[0m\n\u001b[1;32m      5\u001b[0m \u001b[0;34m\u001b[0m\u001b[0m\n",
      "\u001b[0;32m/Users/dayajun/LArLite/python/basictool/geoviewer.pyc\u001b[0m in \u001b[0;36madd\u001b[0;34m(self, arg, label, c)\u001b[0m\n\u001b[1;32m     79\u001b[0m \u001b[0;34m\u001b[0m\u001b[0m\n\u001b[1;32m     80\u001b[0m     \u001b[0;32mdef\u001b[0m \u001b[0madd\u001b[0m\u001b[0;34m(\u001b[0m\u001b[0mself\u001b[0m\u001b[0;34m,\u001b[0m\u001b[0marg\u001b[0m\u001b[0;34m,\u001b[0m\u001b[0mlabel\u001b[0m\u001b[0;34m=\u001b[0m\u001b[0;34m''\u001b[0m\u001b[0;34m,\u001b[0m\u001b[0mc\u001b[0m\u001b[0;34m=\u001b[0m\u001b[0;34m''\u001b[0m\u001b[0;34m)\u001b[0m\u001b[0;34m:\u001b[0m\u001b[0;34m\u001b[0m\u001b[0m\n\u001b[0;32m---> 81\u001b[0;31m         \u001b[0mself\u001b[0m\u001b[0;34m.\u001b[0m\u001b[0m_holder\u001b[0m\u001b[0;34m.\u001b[0m\u001b[0mAdd\u001b[0m\u001b[0;34m(\u001b[0m\u001b[0marg\u001b[0m\u001b[0;34m,\u001b[0m\u001b[0mlabel\u001b[0m\u001b[0;34m,\u001b[0m\u001b[0mc\u001b[0m\u001b[0;34m)\u001b[0m\u001b[0;34m\u001b[0m\u001b[0m\n\u001b[0m\u001b[1;32m     82\u001b[0m \u001b[0;34m\u001b[0m\u001b[0m\n\u001b[1;32m     83\u001b[0m     \u001b[0;32mdef\u001b[0m \u001b[0m_add_label\u001b[0m\u001b[0;34m(\u001b[0m\u001b[0mself\u001b[0m\u001b[0;34m,\u001b[0m\u001b[0margs\u001b[0m\u001b[0;34m)\u001b[0m\u001b[0;34m:\u001b[0m\u001b[0;34m\u001b[0m\u001b[0m\n",
      "\u001b[0;31mTypeError\u001b[0m: none of the 7 overloaded methods succeeded. Full details:\n  void geoalgo::GeoObjCollection::Add(const geoalgo::Vector& pt, string label = \"\", string c = \"\") =>\n    could not convert argument 1\n  void geoalgo::GeoObjCollection::Add(const geoalgo::AABox& box, string label = \"\", string c = \"\") =>\n    could not convert argument 1\n  void geoalgo::GeoObjCollection::Add(const geoalgo::LineSegment& seg, string label = \"\", string c = \"\") =>\n    could not convert argument 1\n  void geoalgo::GeoObjCollection::Add(const geoalgo::HalfLine& seg, string label = \"\", string c = \"\") =>\n    could not convert argument 1\n  void geoalgo::GeoObjCollection::Add(const geoalgo::Trajectory& trj, string label = \"\", string c = \"\") =>\n    could not convert argument 1\n  void geoalgo::GeoObjCollection::Add(const geoalgo::Cone& cone, string label = \"\", string c = \"\") =>\n    could not convert argument 1\n  void geoalgo::GeoObjCollection::Add(const geoalgo::Sphere& sphere, string label = \"\", string c = \"\") =>\n    could not convert argument 1"
     ]
    }
   ],
   "source": [
    "viewer._use_box = False\n",
    "\n",
    "viewer.add(cryo_cylinder,'CRYO','b')\n",
    "viewer.add(tpc_av,'TPC','r')\n",
    "\n",
    "\n",
    "viewer.show()\n"
   ]
  },
  {
   "cell_type": "code",
   "execution_count": null,
   "metadata": {
    "collapsed": true
   },
   "outputs": [],
   "source": []
  }
 ],
 "metadata": {
  "kernelspec": {
   "display_name": "Python 2",
   "language": "python",
   "name": "python2"
  },
  "language_info": {
   "codemirror_mode": {
    "name": "ipython",
    "version": 2
   },
   "file_extension": ".py",
   "mimetype": "text/x-python",
   "name": "python",
   "nbconvert_exporter": "python",
   "pygments_lexer": "ipython2",
   "version": "2.7.9"
  }
 },
 "nbformat": 4,
 "nbformat_minor": 0
}
