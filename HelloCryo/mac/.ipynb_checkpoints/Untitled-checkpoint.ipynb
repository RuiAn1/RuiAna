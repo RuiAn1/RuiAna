{
 "cells": [
  {
   "cell_type": "code",
   "execution_count": 7,
   "metadata": {
    "collapsed": false
   },
   "outputs": [],
   "source": [
    "import ROOT\n",
    "from ROOT import ertool\n",
    "from ROOT import geoalgo\n",
    "from basictool.geoviewer import GeoViewer\n",
    "import matplotlib.pyplot as plt"
   ]
  },
  {
   "cell_type": "code",
   "execution_count": 9,
   "metadata": {
    "collapsed": true
   },
   "outputs": [],
   "source": [
    "geo = geoalgo.GeoAlgo()\n",
    "viewer = GeoViewer()\n",
    "cryo_cylinder = geoalgo.GeoCylinder(256.35/2,0,0,256.35,0,)"
   ]
  },
  {
   "cell_type": "markdown",
   "metadata": {},
   "source": [
    "###### \n",
    "viewer = GeoViewer()\n",
    "viewer._use_box = False\n",
    "geoAlgo = geoalgo.GeoAlgo()\n",
    "line1 = geoalgo.LineSegment(105.727, -66.7871, 814.841, 105.438, -67.4666, 815.464)\n",
    "line2 = geoalgo.LineSegment(105.229, -67.5519, 815.806, 108.149, -62.1392, 810.246)\n",
    "pt1 = geoalgo.Vector()\n",
    "pt2 = geoalgo.Vector()\n",
    "d = geoAlgo.SqDist(line1,line2,pt1,pt2)\n",
    "line3 = geoalgo.LineSegment(pt1,pt2)\n",
    "viewer.add(line1,'ln1','b')\n",
    "viewer.add(line2,'ln2','r')\n",
    "viewer.add(line3,'ln3','k')\n",
    "print 'distance is %.02f'%d\n",
    "viewer.show()\n"
   ]
  }
 ],
 "metadata": {
  "kernelspec": {
   "display_name": "Python 2",
   "language": "python",
   "name": "python2"
  },
  "language_info": {
   "codemirror_mode": {
    "name": "ipython",
    "version": 2
   },
   "file_extension": ".py",
   "mimetype": "text/x-python",
   "name": "python",
   "nbconvert_exporter": "python",
   "pygments_lexer": "ipython2",
   "version": "2.7.9"
  }
 },
 "nbformat": 4,
 "nbformat_minor": 0
}
